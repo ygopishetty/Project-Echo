{
  "nbformat": 4,
  "nbformat_minor": 0,
  "metadata": {
    "colab": {
      "provenance": [],
      "authorship_tag": "ABX9TyNpbEHY1H47L5BdEXrG3u4S",
      "include_colab_link": true
    },
    "kernelspec": {
      "name": "python3",
      "display_name": "Python 3"
    },
    "language_info": {
      "name": "python"
    }
  },
  "cells": [
    {
      "cell_type": "markdown",
      "metadata": {
        "id": "view-in-github",
        "colab_type": "text"
      },
      "source": [
        "<a href=\"https://colab.research.google.com/github/ygopishetty/Project-Echo/blob/main/Untitled3.ipynb\" target=\"_parent\"><img src=\"https://colab.research.google.com/assets/colab-badge.svg\" alt=\"Open In Colab\"/></a>"
      ]
    },
    {
      "cell_type": "code",
      "execution_count": 1,
      "metadata": {
        "id": "1fjgb8WExNl4"
      },
      "outputs": [],
      "source": [
        "import tensorflow as tf\n",
        "import numpy as np\n",
        "from nltk.stem import PorterStemmer"
      ]
    },
    {
      "cell_type": "code",
      "source": [
        "intents = [\n",
        "    {\n",
        "        \"tag\": \"greeting\",\n",
        "        \"patterns\": [\"Hi there\", \"Hello\", \"Greetings\", \"Hi\", \"Hey\"],\n",
        "        \"responses\": [\"Hello!\", \"Hi there! How can I help you?\", \"Hey! How can I assist you today?\"]\n",
        "    },\n",
        "    {\n",
        "        \"tag\": \"goodbye\",\n",
        "        \"patterns\": [\"Bye\", \"See you later\", \"Goodbye\"],\n",
        "        \"responses\": [\"Goodbye!\", \"See you soon!\", \"Take care!\"]\n",
        "    },\n",
        "    {\n",
        "        \"tag\": \"thanks\",\n",
        "        \"patterns\": [\"Thanks\", \"Thank you\", \"Thanks a lot\"],\n",
        "        \"responses\": [\"You're welcome!\", \"No problem!\", \"Glad to help!\"]\n",
        "    },\n",
        "    {\n",
        "        \"tag\": \"recommendation\",\n",
        "        \"patterns\": [\"Can you recommend something?\", \"What do you suggest?\", \"Any ideas?\", \"What's good?\", \"What's popular?\", \"What's trending?\"],\n",
        "        \"responses\": [\"Based on your previous transaction you may save upto\", \"Based on your previous purchases, you might like product Y.\", \"Product Z has been very popular among our customers.\", \"Our featured product this month is A. Would you like to learn more about it?\"]\n",
        "    }\n",
        "]"
      ],
      "metadata": {
        "id": "18bfV88jx4D2"
      },
      "execution_count": 2,
      "outputs": []
    },
    {
      "cell_type": "code",
      "source": [
        "# Extract data from intents\n",
        "words = []\n",
        "labels = []\n",
        "docs_x = []\n",
        "docs_y = []\n",
        "for intent in intents:\n",
        "    for pattern in intent['patterns']:\n",
        "        # Tokenize each word in pattern\n",
        "        w = pattern.split()\n",
        "        words.extend(w)\n",
        "        docs_x.append(w)\n",
        "        docs_y.append(intent['tag'])\n",
        "\n",
        "    if intent['tag'] not in labels:\n",
        "        labels.append(intent['tag'])"
      ],
      "metadata": {
        "id": "4TFgWTFnx8Y5"
      },
      "execution_count": 3,
      "outputs": []
    },
    {
      "cell_type": "code",
      "source": [
        "# Stem and lower case words\n",
        "stemmer = PorterStemmer()\n",
        "words = [stemmer.stem(w.lower()) for w in words]\n",
        "words = sorted(list(set(words)))\n"
      ],
      "metadata": {
        "id": "ZzNHQW7iyAMq"
      },
      "execution_count": 4,
      "outputs": []
    },
    {
      "cell_type": "code",
      "source": [
        "# Sort labels\n",
        "labels = sorted(labels)\n"
      ],
      "metadata": {
        "id": "iunSeTwLywn5"
      },
      "execution_count": 5,
      "outputs": []
    },
    {
      "cell_type": "code",
      "source": [
        "# Create training data\n",
        "training = []\n",
        "output = []\n",
        "out_empty = [0 for _ in range(len(labels))]\n",
        "for x, doc in enumerate(docs_x):\n",
        "    bag = []\n",
        "\n",
        "    for w in words:\n",
        "        if w in doc:\n",
        "            bag.append(1)\n",
        "        else:\n",
        "            bag.append(0)\n",
        "\n",
        "    output_row = out_empty[:]\n",
        "    output_row[labels.index(docs_y[x])] = 1\n",
        "\n",
        "    training.append(bag)\n",
        "    output.append(output_row)"
      ],
      "metadata": {
        "id": "g0gzrQa-y1ZF"
      },
      "execution_count": 6,
      "outputs": []
    },
    {
      "cell_type": "code",
      "source": [
        "# Convert training data to numpy arrays\n",
        "training = np.array(training)\n",
        "output = np.array(output)\n"
      ],
      "metadata": {
        "id": "czA9FmWwy5B5"
      },
      "execution_count": 7,
      "outputs": []
    },
    {
      "cell_type": "code",
      "source": [
        "# Define model\n",
        "model = tf.keras.models.Sequential([\n",
        "    tf.keras.layers.Dense(128, input_shape=(len(training[0]),), activation='relu'),\n",
        "    tf.keras.layers.Dropout(0.5),\n",
        "    tf.keras.layers.Dense(64, activation='relu'),\n",
        "    tf.keras.layers.Dropout(0.5),\n",
        "    tf.keras.layers.Dense(len(output[0]), activation='softmax')\n",
        "    ])"
      ],
      "metadata": {
        "id": "zytnpUPky85k"
      },
      "execution_count": 8,
      "outputs": []
    },
    {
      "cell_type": "code",
      "source": [
        "# Compile model\n",
        "model.compile(optimizer='adam', loss='categorical_crossentropy', metrics=['accuracy'])"
      ],
      "metadata": {
        "id": "O_Tas1mIzHkJ"
      },
      "execution_count": 9,
      "outputs": []
    },
    {
      "cell_type": "code",
      "source": [
        "# Train model\n",
        "model.fit(training, output, epochs=100, batch_size=8)"
      ],
      "metadata": {
        "colab": {
          "base_uri": "https://localhost:8080/"
        },
        "id": "Eb8DitEPzLTs",
        "outputId": "2fe8babc-ca0b-4260-b519-61e616c1a381"
      },
      "execution_count": 10,
      "outputs": [
        {
          "output_type": "stream",
          "name": "stdout",
          "text": [
            "Epoch 1/100\n",
            "3/3 [==============================] - 2s 12ms/step - loss: 1.3881 - accuracy: 0.1765\n",
            "Epoch 2/100\n",
            "3/3 [==============================] - 0s 8ms/step - loss: 1.3948 - accuracy: 0.1765\n",
            "Epoch 3/100\n",
            "3/3 [==============================] - 0s 6ms/step - loss: 1.3429 - accuracy: 0.2353\n",
            "Epoch 4/100\n",
            "3/3 [==============================] - 0s 7ms/step - loss: 1.3752 - accuracy: 0.2941\n",
            "Epoch 5/100\n",
            "3/3 [==============================] - 0s 6ms/step - loss: 1.3745 - accuracy: 0.2353\n",
            "Epoch 6/100\n",
            "3/3 [==============================] - 0s 7ms/step - loss: 1.2865 - accuracy: 0.3529\n",
            "Epoch 7/100\n",
            "3/3 [==============================] - 0s 7ms/step - loss: 1.3040 - accuracy: 0.2353\n",
            "Epoch 8/100\n",
            "3/3 [==============================] - 0s 9ms/step - loss: 1.2861 - accuracy: 0.3529\n",
            "Epoch 9/100\n",
            "3/3 [==============================] - 0s 7ms/step - loss: 1.3225 - accuracy: 0.2353\n",
            "Epoch 10/100\n",
            "3/3 [==============================] - 0s 9ms/step - loss: 1.2835 - accuracy: 0.3529\n",
            "Epoch 11/100\n",
            "3/3 [==============================] - 0s 11ms/step - loss: 1.2893 - accuracy: 0.2941\n",
            "Epoch 12/100\n",
            "3/3 [==============================] - 0s 7ms/step - loss: 1.3261 - accuracy: 0.2941\n",
            "Epoch 13/100\n",
            "3/3 [==============================] - 0s 7ms/step - loss: 1.2588 - accuracy: 0.4118\n",
            "Epoch 14/100\n",
            "3/3 [==============================] - 0s 7ms/step - loss: 1.2336 - accuracy: 0.4118\n",
            "Epoch 15/100\n",
            "3/3 [==============================] - 0s 11ms/step - loss: 1.3194 - accuracy: 0.4118\n",
            "Epoch 16/100\n",
            "3/3 [==============================] - 0s 7ms/step - loss: 1.2048 - accuracy: 0.4118\n",
            "Epoch 17/100\n",
            "3/3 [==============================] - 0s 10ms/step - loss: 1.3410 - accuracy: 0.1176\n",
            "Epoch 18/100\n",
            "3/3 [==============================] - 0s 13ms/step - loss: 1.2684 - accuracy: 0.4118\n",
            "Epoch 19/100\n",
            "3/3 [==============================] - 0s 9ms/step - loss: 1.2255 - accuracy: 0.5294\n",
            "Epoch 20/100\n",
            "3/3 [==============================] - 0s 8ms/step - loss: 1.1965 - accuracy: 0.4118\n",
            "Epoch 21/100\n",
            "3/3 [==============================] - 0s 6ms/step - loss: 1.2178 - accuracy: 0.3529\n",
            "Epoch 22/100\n",
            "3/3 [==============================] - 0s 7ms/step - loss: 1.1704 - accuracy: 0.4706\n",
            "Epoch 23/100\n",
            "3/3 [==============================] - 0s 6ms/step - loss: 1.1153 - accuracy: 0.4706\n",
            "Epoch 24/100\n",
            "3/3 [==============================] - 0s 9ms/step - loss: 1.1986 - accuracy: 0.4118\n",
            "Epoch 25/100\n",
            "3/3 [==============================] - 0s 8ms/step - loss: 1.2590 - accuracy: 0.3529\n",
            "Epoch 26/100\n",
            "3/3 [==============================] - 0s 6ms/step - loss: 1.1824 - accuracy: 0.4118\n",
            "Epoch 27/100\n",
            "3/3 [==============================] - 0s 7ms/step - loss: 1.1624 - accuracy: 0.4706\n",
            "Epoch 28/100\n",
            "3/3 [==============================] - 0s 7ms/step - loss: 1.1234 - accuracy: 0.4118\n",
            "Epoch 29/100\n",
            "3/3 [==============================] - 0s 7ms/step - loss: 1.1607 - accuracy: 0.3529\n",
            "Epoch 30/100\n",
            "3/3 [==============================] - 0s 5ms/step - loss: 1.0946 - accuracy: 0.4706\n",
            "Epoch 31/100\n",
            "3/3 [==============================] - 0s 5ms/step - loss: 1.1372 - accuracy: 0.4118\n",
            "Epoch 32/100\n",
            "3/3 [==============================] - 0s 5ms/step - loss: 1.1736 - accuracy: 0.4706\n",
            "Epoch 33/100\n",
            "3/3 [==============================] - 0s 5ms/step - loss: 1.0829 - accuracy: 0.5294\n",
            "Epoch 34/100\n",
            "3/3 [==============================] - 0s 5ms/step - loss: 1.2204 - accuracy: 0.4706\n",
            "Epoch 35/100\n",
            "3/3 [==============================] - 0s 5ms/step - loss: 1.0831 - accuracy: 0.5882\n",
            "Epoch 36/100\n",
            "3/3 [==============================] - 0s 6ms/step - loss: 1.0812 - accuracy: 0.4706\n",
            "Epoch 37/100\n",
            "3/3 [==============================] - 0s 6ms/step - loss: 1.1377 - accuracy: 0.4706\n",
            "Epoch 38/100\n",
            "3/3 [==============================] - 0s 5ms/step - loss: 1.0743 - accuracy: 0.4118\n",
            "Epoch 39/100\n",
            "3/3 [==============================] - 0s 5ms/step - loss: 1.1600 - accuracy: 0.5882\n",
            "Epoch 40/100\n",
            "3/3 [==============================] - 0s 6ms/step - loss: 1.0842 - accuracy: 0.4706\n",
            "Epoch 41/100\n",
            "3/3 [==============================] - 0s 5ms/step - loss: 1.0745 - accuracy: 0.5294\n",
            "Epoch 42/100\n",
            "3/3 [==============================] - 0s 5ms/step - loss: 1.1291 - accuracy: 0.4706\n",
            "Epoch 43/100\n",
            "3/3 [==============================] - 0s 5ms/step - loss: 1.0299 - accuracy: 0.6471\n",
            "Epoch 44/100\n",
            "3/3 [==============================] - 0s 5ms/step - loss: 1.0087 - accuracy: 0.6471\n",
            "Epoch 45/100\n",
            "3/3 [==============================] - 0s 5ms/step - loss: 1.0287 - accuracy: 0.4706\n",
            "Epoch 46/100\n",
            "3/3 [==============================] - 0s 5ms/step - loss: 1.0273 - accuracy: 0.5294\n",
            "Epoch 47/100\n",
            "3/3 [==============================] - 0s 5ms/step - loss: 1.0133 - accuracy: 0.5294\n",
            "Epoch 48/100\n",
            "3/3 [==============================] - 0s 5ms/step - loss: 1.0108 - accuracy: 0.4706\n",
            "Epoch 49/100\n",
            "3/3 [==============================] - 0s 6ms/step - loss: 1.0057 - accuracy: 0.6471\n",
            "Epoch 50/100\n",
            "3/3 [==============================] - 0s 5ms/step - loss: 0.9930 - accuracy: 0.6471\n",
            "Epoch 51/100\n",
            "3/3 [==============================] - 0s 6ms/step - loss: 1.0309 - accuracy: 0.6471\n",
            "Epoch 52/100\n",
            "3/3 [==============================] - 0s 5ms/step - loss: 0.9906 - accuracy: 0.5882\n",
            "Epoch 53/100\n",
            "3/3 [==============================] - 0s 5ms/step - loss: 0.9861 - accuracy: 0.5882\n",
            "Epoch 54/100\n",
            "3/3 [==============================] - 0s 6ms/step - loss: 1.0102 - accuracy: 0.6471\n",
            "Epoch 55/100\n",
            "3/3 [==============================] - 0s 6ms/step - loss: 0.9253 - accuracy: 0.7059\n",
            "Epoch 56/100\n",
            "3/3 [==============================] - 0s 6ms/step - loss: 1.0274 - accuracy: 0.6471\n",
            "Epoch 57/100\n",
            "3/3 [==============================] - 0s 6ms/step - loss: 0.9561 - accuracy: 0.5882\n",
            "Epoch 58/100\n",
            "3/3 [==============================] - 0s 5ms/step - loss: 0.9059 - accuracy: 0.7059\n",
            "Epoch 59/100\n",
            "3/3 [==============================] - 0s 7ms/step - loss: 0.9523 - accuracy: 0.7059\n",
            "Epoch 60/100\n",
            "3/3 [==============================] - 0s 6ms/step - loss: 0.8749 - accuracy: 0.7647\n",
            "Epoch 61/100\n",
            "3/3 [==============================] - 0s 7ms/step - loss: 0.9997 - accuracy: 0.7059\n",
            "Epoch 62/100\n",
            "3/3 [==============================] - 0s 5ms/step - loss: 0.9248 - accuracy: 0.7059\n",
            "Epoch 63/100\n",
            "3/3 [==============================] - 0s 5ms/step - loss: 0.9036 - accuracy: 0.7059\n",
            "Epoch 64/100\n",
            "3/3 [==============================] - 0s 6ms/step - loss: 0.9327 - accuracy: 0.6471\n",
            "Epoch 65/100\n",
            "3/3 [==============================] - 0s 5ms/step - loss: 0.8153 - accuracy: 0.7059\n",
            "Epoch 66/100\n",
            "3/3 [==============================] - 0s 5ms/step - loss: 0.9107 - accuracy: 0.7059\n",
            "Epoch 67/100\n",
            "3/3 [==============================] - 0s 5ms/step - loss: 0.8695 - accuracy: 0.7059\n",
            "Epoch 68/100\n",
            "3/3 [==============================] - 0s 5ms/step - loss: 0.8500 - accuracy: 0.7647\n",
            "Epoch 69/100\n",
            "3/3 [==============================] - 0s 5ms/step - loss: 0.9209 - accuracy: 0.7647\n",
            "Epoch 70/100\n",
            "3/3 [==============================] - 0s 6ms/step - loss: 0.8093 - accuracy: 0.8235\n",
            "Epoch 71/100\n",
            "3/3 [==============================] - 0s 5ms/step - loss: 0.8619 - accuracy: 0.7059\n",
            "Epoch 72/100\n",
            "3/3 [==============================] - 0s 14ms/step - loss: 0.9578 - accuracy: 0.7059\n",
            "Epoch 73/100\n",
            "3/3 [==============================] - 0s 10ms/step - loss: 0.8236 - accuracy: 0.7647\n",
            "Epoch 74/100\n",
            "3/3 [==============================] - 0s 5ms/step - loss: 0.8168 - accuracy: 0.7647\n",
            "Epoch 75/100\n",
            "3/3 [==============================] - 0s 7ms/step - loss: 0.8434 - accuracy: 0.7059\n",
            "Epoch 76/100\n",
            "3/3 [==============================] - 0s 11ms/step - loss: 0.9018 - accuracy: 0.6471\n",
            "Epoch 77/100\n",
            "3/3 [==============================] - 0s 12ms/step - loss: 0.8565 - accuracy: 0.7647\n",
            "Epoch 78/100\n",
            "3/3 [==============================] - 0s 9ms/step - loss: 0.8907 - accuracy: 0.7059\n",
            "Epoch 79/100\n",
            "3/3 [==============================] - 0s 9ms/step - loss: 0.8517 - accuracy: 0.7059\n",
            "Epoch 80/100\n",
            "3/3 [==============================] - 0s 9ms/step - loss: 0.7515 - accuracy: 0.7647\n",
            "Epoch 81/100\n",
            "3/3 [==============================] - 0s 18ms/step - loss: 0.8270 - accuracy: 0.7647\n",
            "Epoch 82/100\n",
            "3/3 [==============================] - 0s 10ms/step - loss: 0.7898 - accuracy: 0.7647\n",
            "Epoch 83/100\n",
            "3/3 [==============================] - 0s 11ms/step - loss: 0.8222 - accuracy: 0.7059\n",
            "Epoch 84/100\n",
            "3/3 [==============================] - 0s 10ms/step - loss: 0.7602 - accuracy: 0.8235\n",
            "Epoch 85/100\n",
            "3/3 [==============================] - 0s 8ms/step - loss: 0.7501 - accuracy: 0.7647\n",
            "Epoch 86/100\n",
            "3/3 [==============================] - 0s 34ms/step - loss: 0.7978 - accuracy: 0.7647\n",
            "Epoch 87/100\n",
            "3/3 [==============================] - 0s 9ms/step - loss: 0.8872 - accuracy: 0.7059\n",
            "Epoch 88/100\n",
            "3/3 [==============================] - 0s 8ms/step - loss: 0.7418 - accuracy: 0.7647\n",
            "Epoch 89/100\n",
            "3/3 [==============================] - 0s 8ms/step - loss: 0.8043 - accuracy: 0.7647\n",
            "Epoch 90/100\n",
            "3/3 [==============================] - 0s 8ms/step - loss: 0.7849 - accuracy: 0.7647\n",
            "Epoch 91/100\n",
            "3/3 [==============================] - 0s 6ms/step - loss: 0.7859 - accuracy: 0.7059\n",
            "Epoch 92/100\n",
            "3/3 [==============================] - 0s 28ms/step - loss: 0.7145 - accuracy: 0.7647\n",
            "Epoch 93/100\n",
            "3/3 [==============================] - 0s 6ms/step - loss: 0.7365 - accuracy: 0.8235\n",
            "Epoch 94/100\n",
            "3/3 [==============================] - 0s 9ms/step - loss: 0.8378 - accuracy: 0.7059\n",
            "Epoch 95/100\n",
            "3/3 [==============================] - 0s 8ms/step - loss: 0.6711 - accuracy: 0.8235\n",
            "Epoch 96/100\n",
            "3/3 [==============================] - 0s 18ms/step - loss: 0.7197 - accuracy: 0.7647\n",
            "Epoch 97/100\n",
            "3/3 [==============================] - 0s 11ms/step - loss: 0.6872 - accuracy: 0.8235\n",
            "Epoch 98/100\n",
            "3/3 [==============================] - 0s 10ms/step - loss: 0.7439 - accuracy: 0.7647\n",
            "Epoch 99/100\n",
            "3/3 [==============================] - 0s 8ms/step - loss: 0.7070 - accuracy: 0.8235\n",
            "Epoch 100/100\n",
            "3/3 [==============================] - 0s 8ms/step - loss: 0.6752 - accuracy: 0.7647\n"
          ]
        },
        {
          "output_type": "execute_result",
          "data": {
            "text/plain": [
              "<keras.callbacks.History at 0x7fcc4b3ed1b0>"
            ]
          },
          "metadata": {},
          "execution_count": 10
        }
      ]
    },
    {
      "cell_type": "code",
      "source": [
        "# Save model\n",
        "model.save('chatbot_model.h5')"
      ],
      "metadata": {
        "id": "9Ol6QZxozO6K"
      },
      "execution_count": 11,
      "outputs": []
    },
    {
      "cell_type": "code",
      "source": [
        "# Define function to preprocess user input\n",
        "def preprocess_input(input):\n",
        "    # Tokenize input\n",
        "    input_words = input.split()\n",
        "    # Stem and lower case words\n",
        "    input_words = [stemmer.stem(w.lower()) for w in input_words]\n",
        "    # Create bag of words\n",
        "    input_bag = [0 for _ in range(len(words))]\n",
        "    for w in input_words:\n",
        "        if w in words:\n",
        "            input_bag[words.index(w)] = 1\n",
        "    # Return preprocessed input\n",
        "    return np.array(input_bag)"
      ],
      "metadata": {
        "id": "AOv5ryor0RIt"
      },
      "execution_count": 12,
      "outputs": []
    },
    {
      "cell_type": "code",
      "source": [
        "def generate_response(input):\n",
        "    # Preprocess input\n",
        "    input_bag = preprocess_input(input)\n",
        "    # Use model to predict output\n",
        "    output = model.predict(np.array([input_bag]))[0]\n",
        "    # Get index of highest probability\n",
        "    index = np.argmax(output)\n",
        "    # Get tag for predicted intent\n",
        "    tag = labels[index]\n",
        "    # Choose a random response from the chosen intent\n",
        "    responses = [i['responses'] for i in intents if i['tag']==tag]\n",
        "    if responses:\n",
        "        response = np.random.choice(responses[0])\n",
        "    else:\n",
        "        response = \"I'm sorry, I didn't understand that.\"\n",
        "    return response"
      ],
      "metadata": {
        "id": "OMa41imK0Spm"
      },
      "execution_count": 13,
      "outputs": []
    },
    {
      "cell_type": "code",
      "source": [
        "# Test chatbot\n",
        "while True:\n",
        "    input_text = input(\"You: \")\n",
        "    if input_text.lower() == 'quit':\n",
        "        break\n",
        "    response = generate_response(input_text)\n",
        "    print(\"Bot: \" + response)"
      ],
      "metadata": {
        "colab": {
          "base_uri": "https://localhost:8080/"
        },
        "id": "9MneRTR00IIN",
        "outputId": "c9e98788-a53c-4cb0-9131-70bd61fe3f91"
      },
      "execution_count": null,
      "outputs": [
        {
          "output_type": "stream",
          "name": "stdout",
          "text": [
            "You: hi\n",
            "1/1 [==============================] - 0s 92ms/step\n",
            "Bot: Based on your previous purchases, you might like product Y.\n",
            "You: hi there\n",
            "1/1 [==============================] - 0s 21ms/step\n",
            "Bot: Our featured product this month is A. Would you like to learn more about it?\n",
            "You: Hi there\n",
            "1/1 [==============================] - 0s 32ms/step\n",
            "Bot: Our featured product this month is A. Would you like to learn more about it?\n",
            "You: Hey\n",
            "1/1 [==============================] - 0s 30ms/step\n",
            "Bot: Based on your previous transaction you may save upto\n"
          ]
        }
      ]
    }
  ]
}